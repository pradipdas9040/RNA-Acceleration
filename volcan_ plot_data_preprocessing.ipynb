{
 "cells": [
  {
   "cell_type": "code",
   "execution_count": 1,
   "id": "65a48424",
   "metadata": {},
   "outputs": [],
   "source": [
    "import numpy as np\n",
    "import pandas as pd\n",
    "from scipy import stats\n",
    "import scvelo as scv"
   ]
  },
  {
   "cell_type": "code",
   "execution_count": 2,
   "id": "ea9df5d2",
   "metadata": {},
   "outputs": [
    {
     "data": {
      "text/plain": [
       "AnnData object with n_obs × n_vars = 3696 × 27998\n",
       "    obs: 'clusters_coarse', 'clusters', 'S_score', 'G2M_score'\n",
       "    var: 'highly_variable_genes'\n",
       "    uns: 'clusters_coarse_colors', 'clusters_colors', 'day_colors', 'neighbors', 'pca'\n",
       "    obsm: 'X_pca', 'X_umap'\n",
       "    layers: 'spliced', 'unspliced'\n",
       "    obsp: 'distances', 'connectivities'"
      ]
     },
     "execution_count": 2,
     "metadata": {},
     "output_type": "execute_result"
    }
   ],
   "source": [
    "adata = scv.datasets.pancreas()\n",
    "adata"
   ]
  },
  {
   "cell_type": "code",
   "execution_count": 3,
   "id": "3469930f",
   "metadata": {},
   "outputs": [],
   "source": [
    "# set(adata.obs['clusters'])"
   ]
  },
  {
   "cell_type": "code",
   "execution_count": 4,
   "id": "849e14c5",
   "metadata": {},
   "outputs": [
    {
     "name": "stdout",
     "output_type": "stream",
     "text": [
      "Filtered out 20801 genes that are detected 20 counts (shared).\n",
      "Extracted 2000 highly variable genes.\n"
     ]
    }
   ],
   "source": [
    "scv.pp.filter_genes(adata, min_shared_counts=20)\n",
    "scv.pp.filter_genes_dispersion(adata, n_top_genes=2000)"
   ]
  },
  {
   "cell_type": "code",
   "execution_count": 5,
   "id": "8d3cd3c3",
   "metadata": {},
   "outputs": [],
   "source": [
    "def volcano_data(adata, clusters, cell_name):\n",
    "    s = adata.to_df(layer='spliced')\n",
    "    u = adata.to_df(layer='unspliced')\n",
    "    df = pd.DataFrame(adata.obs)\n",
    "    cell_gene = df.index[df[clusters] == cell_name].tolist()\n",
    "    dfs = s.loc[cell_gene].T\n",
    "    dfu = u.loc[cell_gene].T\n",
    "    mean_s = dfs.mean(axis=1)\n",
    "    mean_u = dfu.mean(axis=1)\n",
    "    gene = list(dfs.index)\n",
    "    ge = pd.DataFrame(gene, columns=['Gene'])\n",
    "    l2fc = np.array(np.log2(mean_s/mean_u))\n",
    "    ge[\"l2fc\"] = l2fc\n",
    "    p_value = stats.ttest_ind(np.array(s.loc[cell_gene]),np.array(u.loc[cell_gene]))\n",
    "    ge[\"pv\"]= p_value[1]\n",
    "    ge.fillna(0, inplace=True)\n",
    "    temp = ge[(ge.l2fc!=0) & (ge.pv!=0)]\n",
    "    exgene = np.array(temp.index)\n",
    "    res_list = [np.array(ge['Gene'])[i] for i in exgene]    \n",
    "    EXG = pd.DataFrame(res_list, columns=['exp_Gene'])\n",
    "    EXG.to_csv('expgene.csv')\n",
    "    print(\"Data save as name expgene.csv\")\n",
    "    ge.to_csv('volcano.csv')\n",
    "    print(\"Data save as name volcano.csv\") "
   ]
  },
  {
   "cell_type": "code",
   "execution_count": 9,
   "id": "24f33e2b",
   "metadata": {},
   "outputs": [
    {
     "name": "stdout",
     "output_type": "stream",
     "text": [
      "Data save as name expgene.csv\n",
      "Data save as name volcano.csv\n"
     ]
    }
   ],
   "source": [
    "volcano_data(adata, clusters='clusters', cell_name='Beta')"
   ]
  },
  {
   "cell_type": "code",
   "execution_count": 10,
   "id": "624c6770",
   "metadata": {},
   "outputs": [
    {
     "data": {
      "text/html": [
       "<div>\n",
       "<style scoped>\n",
       "    .dataframe tbody tr th:only-of-type {\n",
       "        vertical-align: middle;\n",
       "    }\n",
       "\n",
       "    .dataframe tbody tr th {\n",
       "        vertical-align: top;\n",
       "    }\n",
       "\n",
       "    .dataframe thead th {\n",
       "        text-align: right;\n",
       "    }\n",
       "</style>\n",
       "<table border=\"1\" class=\"dataframe\">\n",
       "  <thead>\n",
       "    <tr style=\"text-align: right;\">\n",
       "      <th></th>\n",
       "      <th>Unnamed: 0</th>\n",
       "      <th>Gene</th>\n",
       "      <th>l2fc</th>\n",
       "      <th>pv</th>\n",
       "    </tr>\n",
       "  </thead>\n",
       "  <tbody>\n",
       "    <tr>\n",
       "      <th>0</th>\n",
       "      <td>0</td>\n",
       "      <td>Snhg6</td>\n",
       "      <td>2.834576</td>\n",
       "      <td>1.191276e-15</td>\n",
       "    </tr>\n",
       "    <tr>\n",
       "      <th>1</th>\n",
       "      <td>1</td>\n",
       "      <td>Lactb2</td>\n",
       "      <td>0.623437</td>\n",
       "      <td>4.829411e-02</td>\n",
       "    </tr>\n",
       "    <tr>\n",
       "      <th>2</th>\n",
       "      <td>2</td>\n",
       "      <td>Sbspon</td>\n",
       "      <td>1.584963</td>\n",
       "      <td>3.168992e-01</td>\n",
       "    </tr>\n",
       "    <tr>\n",
       "      <th>3</th>\n",
       "      <td>3</td>\n",
       "      <td>Pkhd1</td>\n",
       "      <td>-4.187627</td>\n",
       "      <td>9.206254e-24</td>\n",
       "    </tr>\n",
       "    <tr>\n",
       "      <th>4</th>\n",
       "      <td>4</td>\n",
       "      <td>Mcm3</td>\n",
       "      <td>inf</td>\n",
       "      <td>1.623448e-04</td>\n",
       "    </tr>\n",
       "    <tr>\n",
       "      <th>...</th>\n",
       "      <td>...</td>\n",
       "      <td>...</td>\n",
       "      <td>...</td>\n",
       "      <td>...</td>\n",
       "    </tr>\n",
       "    <tr>\n",
       "      <th>1995</th>\n",
       "      <td>1995</td>\n",
       "      <td>Tmem27</td>\n",
       "      <td>5.955650</td>\n",
       "      <td>0.000000e+00</td>\n",
       "    </tr>\n",
       "    <tr>\n",
       "      <th>1996</th>\n",
       "      <td>1996</td>\n",
       "      <td>Gpm6b</td>\n",
       "      <td>-2.000000</td>\n",
       "      <td>1.790842e-01</td>\n",
       "    </tr>\n",
       "    <tr>\n",
       "      <th>1997</th>\n",
       "      <td>1997</td>\n",
       "      <td>Ddx3y</td>\n",
       "      <td>-0.227410</td>\n",
       "      <td>2.398149e-01</td>\n",
       "    </tr>\n",
       "    <tr>\n",
       "      <th>1998</th>\n",
       "      <td>1998</td>\n",
       "      <td>Eif2s3y</td>\n",
       "      <td>0.377070</td>\n",
       "      <td>1.216073e-01</td>\n",
       "    </tr>\n",
       "    <tr>\n",
       "      <th>1999</th>\n",
       "      <td>1999</td>\n",
       "      <td>Erdr1</td>\n",
       "      <td>-0.265189</td>\n",
       "      <td>7.197543e-02</td>\n",
       "    </tr>\n",
       "  </tbody>\n",
       "</table>\n",
       "<p>2000 rows × 4 columns</p>\n",
       "</div>"
      ],
      "text/plain": [
       "      Unnamed: 0     Gene      l2fc            pv\n",
       "0              0    Snhg6  2.834576  1.191276e-15\n",
       "1              1   Lactb2  0.623437  4.829411e-02\n",
       "2              2   Sbspon  1.584963  3.168992e-01\n",
       "3              3    Pkhd1 -4.187627  9.206254e-24\n",
       "4              4     Mcm3       inf  1.623448e-04\n",
       "...          ...      ...       ...           ...\n",
       "1995        1995   Tmem27  5.955650  0.000000e+00\n",
       "1996        1996    Gpm6b -2.000000  1.790842e-01\n",
       "1997        1997    Ddx3y -0.227410  2.398149e-01\n",
       "1998        1998  Eif2s3y  0.377070  1.216073e-01\n",
       "1999        1999    Erdr1 -0.265189  7.197543e-02\n",
       "\n",
       "[2000 rows x 4 columns]"
      ]
     },
     "execution_count": 10,
     "metadata": {},
     "output_type": "execute_result"
    }
   ],
   "source": [
    "df = pd.read_csv(\"volcano.csv\")\n",
    "df"
   ]
  },
  {
   "cell_type": "code",
   "execution_count": 11,
   "id": "b62ac024",
   "metadata": {},
   "outputs": [
    {
     "data": {
      "text/html": [
       "<div>\n",
       "<style scoped>\n",
       "    .dataframe tbody tr th:only-of-type {\n",
       "        vertical-align: middle;\n",
       "    }\n",
       "\n",
       "    .dataframe tbody tr th {\n",
       "        vertical-align: top;\n",
       "    }\n",
       "\n",
       "    .dataframe thead th {\n",
       "        text-align: right;\n",
       "    }\n",
       "</style>\n",
       "<table border=\"1\" class=\"dataframe\">\n",
       "  <thead>\n",
       "    <tr style=\"text-align: right;\">\n",
       "      <th></th>\n",
       "      <th>Unnamed: 0</th>\n",
       "      <th>exp_Gene</th>\n",
       "    </tr>\n",
       "  </thead>\n",
       "  <tbody>\n",
       "    <tr>\n",
       "      <th>0</th>\n",
       "      <td>0</td>\n",
       "      <td>Snhg6</td>\n",
       "    </tr>\n",
       "    <tr>\n",
       "      <th>1</th>\n",
       "      <td>1</td>\n",
       "      <td>Lactb2</td>\n",
       "    </tr>\n",
       "    <tr>\n",
       "      <th>2</th>\n",
       "      <td>2</td>\n",
       "      <td>Sbspon</td>\n",
       "    </tr>\n",
       "    <tr>\n",
       "      <th>3</th>\n",
       "      <td>3</td>\n",
       "      <td>Pkhd1</td>\n",
       "    </tr>\n",
       "    <tr>\n",
       "      <th>4</th>\n",
       "      <td>4</td>\n",
       "      <td>Mcm3</td>\n",
       "    </tr>\n",
       "    <tr>\n",
       "      <th>...</th>\n",
       "      <td>...</td>\n",
       "      <td>...</td>\n",
       "    </tr>\n",
       "    <tr>\n",
       "      <th>1530</th>\n",
       "      <td>1530</td>\n",
       "      <td>Ap1s2</td>\n",
       "    </tr>\n",
       "    <tr>\n",
       "      <th>1531</th>\n",
       "      <td>1531</td>\n",
       "      <td>Gpm6b</td>\n",
       "    </tr>\n",
       "    <tr>\n",
       "      <th>1532</th>\n",
       "      <td>1532</td>\n",
       "      <td>Ddx3y</td>\n",
       "    </tr>\n",
       "    <tr>\n",
       "      <th>1533</th>\n",
       "      <td>1533</td>\n",
       "      <td>Eif2s3y</td>\n",
       "    </tr>\n",
       "    <tr>\n",
       "      <th>1534</th>\n",
       "      <td>1534</td>\n",
       "      <td>Erdr1</td>\n",
       "    </tr>\n",
       "  </tbody>\n",
       "</table>\n",
       "<p>1535 rows × 2 columns</p>\n",
       "</div>"
      ],
      "text/plain": [
       "      Unnamed: 0 exp_Gene\n",
       "0              0    Snhg6\n",
       "1              1   Lactb2\n",
       "2              2   Sbspon\n",
       "3              3    Pkhd1\n",
       "4              4     Mcm3\n",
       "...          ...      ...\n",
       "1530        1530    Ap1s2\n",
       "1531        1531    Gpm6b\n",
       "1532        1532    Ddx3y\n",
       "1533        1533  Eif2s3y\n",
       "1534        1534    Erdr1\n",
       "\n",
       "[1535 rows x 2 columns]"
      ]
     },
     "execution_count": 11,
     "metadata": {},
     "output_type": "execute_result"
    }
   ],
   "source": [
    "df2 = pd.read_csv(\"expgene.csv\")\n",
    "df2"
   ]
  },
  {
   "cell_type": "code",
   "execution_count": null,
   "id": "30b8a1b8",
   "metadata": {},
   "outputs": [],
   "source": []
  },
  {
   "cell_type": "code",
   "execution_count": null,
   "id": "f8fb8f49",
   "metadata": {},
   "outputs": [],
   "source": []
  }
 ],
 "metadata": {
  "kernelspec": {
   "display_name": "Python 3 (ipykernel)",
   "language": "python",
   "name": "python3"
  },
  "language_info": {
   "codemirror_mode": {
    "name": "ipython",
    "version": 3
   },
   "file_extension": ".py",
   "mimetype": "text/x-python",
   "name": "python",
   "nbconvert_exporter": "python",
   "pygments_lexer": "ipython3",
   "version": "3.10.2"
  }
 },
 "nbformat": 4,
 "nbformat_minor": 5
}
